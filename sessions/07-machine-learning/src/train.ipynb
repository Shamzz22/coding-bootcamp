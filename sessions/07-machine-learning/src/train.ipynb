{
 "cells": [
  {
   "cell_type": "code",
   "execution_count": 1,
   "metadata": {
    "colab": {},
    "colab_type": "code",
    "id": "NK0kXhH5KcEX"
   },
   "outputs": [
    {
     "name": "stderr",
     "output_type": "stream",
     "text": [
      "Using TensorFlow backend.\n"
     ]
    }
   ],
   "source": [
    "import keras\n",
    "from keras.datasets import mnist, fashion_mnist\n",
    "from keras.models import Sequential\n",
    "from keras.layers import Conv2D, MaxPooling2D, Flatten, Dense"
   ]
  },
  {
   "cell_type": "code",
   "execution_count": 2,
   "metadata": {
    "colab": {},
    "colab_type": "code",
    "id": "VQ1SIf76Kn4r"
   },
   "outputs": [],
   "source": [
    "def load_data():\n",
    "\t# Load dataset\n",
    "\t(train_xs, train_ys), (test_xs, test_ys) = mnist.load_data()\n",
    "\n",
    "\t# Reshaping the train and test sets\n",
    "\ttrain_xs = train_xs.reshape(*train_xs.shape, 1)\n",
    "\ttest_xs = test_xs.reshape(*test_xs.shape, 1)\n",
    "\n",
    "\t# Casting from int to float values\n",
    "\ttrain_xs = train_xs.astype('float32')\n",
    "\ttest_xs = test_xs.astype('float32')\n",
    "\n",
    "\t# Normalizing the values between 0 and 1\n",
    "\ttrain_xs = train_xs / 255\n",
    "\ttest_xs = test_xs / 255\n",
    "\n",
    "\treturn (train_xs, train_ys), (test_xs, test_ys)"
   ]
  },
  {
   "cell_type": "code",
   "execution_count": 3,
   "metadata": {
    "colab": {},
    "colab_type": "code",
    "id": "3Az1E-PdLkNz"
   },
   "outputs": [],
   "source": [
    "def create_model():\n",
    "\t# Create a sequential deep learning model\n",
    "\tmodel = Sequential()\n",
    "\n",
    "\t# Conv Layer\n",
    "\tmodel.add(Conv2D(input_shape=(28, 28, 1),\n",
    "\t\t\t\t\tkernel_size=5,\n",
    "\t\t\t\t\tfilters=8,\n",
    "\t\t\t\t\tstrides=1,\n",
    "\t\t\t\t\tactivation='relu',\n",
    "\t\t\t\t\tkernel_initializer='VarianceScaling'))\n",
    "\t\n",
    "\t# Pooling layer to halve the output from previous layer\n",
    "\tmodel.add(MaxPooling2D(pool_size=(2, 2), strides=2))\n",
    "\n",
    "\t# Conv layer\n",
    "\tmodel.add(Conv2D(kernel_size=5,\n",
    "\t\t\t\t\tfilters=16,\n",
    "\t\t\t\t\tstrides=1,\n",
    "\t\t\t\t\tactivation='relu',\n",
    "\t\t\t\t\tkernel_initializer='VarianceScaling'))\n",
    "\n",
    "\t# Flatten layer output of the previous layer to a 1D vector\n",
    "\tmodel.add(Flatten())\n",
    "\n",
    "\t# Fully-Connected Layer\n",
    "\tmodel.add(Dense(units=128,\n",
    "\t\t\t\t\tactivation='relu',\n",
    "\t\t\t\t\tkernel_initializer='VarianceScaling'))\n",
    "\t\n",
    "\t# Output layer\n",
    "\tmodel.add(Dense(units=10,\n",
    "\t\t\t\t\tactivation='softmax',\n",
    "\t\t\t\t\tkernel_initializer='VarianceScaling'))\n",
    "\t\n",
    "\t# Compile the model\n",
    "\tmodel.compile(optimizer='adam',\n",
    "\t\t\t\tloss='sparse_categorical_crossentropy',\n",
    "\t\t\t\tmetrics=['accuracy'])\n",
    "\t\n",
    "\treturn model"
   ]
  },
  {
   "cell_type": "code",
   "execution_count": 4,
   "metadata": {
    "colab": {},
    "colab_type": "code",
    "id": "58VSfGjYL0Uk"
   },
   "outputs": [],
   "source": [
    "def train():\n",
    "\t# Train the model\n",
    "\tmodel.fit(train_xs, train_ys,\n",
    "\t\t\tbatch_size=32,\n",
    "\t\t\tvalidation_data=(test_xs, test_ys),\n",
    "\t\t\tepochs=12,\n",
    "\t\t\tshuffle=True,\n",
    "\t\t\tverbose=1)\n",
    "\t\n",
    "\t# Checking how well the model performed\n",
    "\ttest_loss, test_accuracy = model.evaluate(test_xs, test_ys, verbose=0)\n",
    "\tprint('Test loss:', test_loss)\n",
    "\tprint('Test accuracy:', test_accuracy)"
   ]
  },
  {
   "cell_type": "code",
   "execution_count": 5,
   "metadata": {
    "colab": {
     "base_uri": "https://localhost:8080/",
     "height": 816
    },
    "colab_type": "code",
    "id": "Yufn12hRMG12",
    "outputId": "84ab8c5b-6112-4b75-9726-136eea701307"
   },
   "outputs": [
    {
     "name": "stdout",
     "output_type": "stream",
     "text": [
      "WARNING:tensorflow:From /home/shoaib/.local/lib/python3.7/site-packages/tensorflow_core/python/ops/resource_variable_ops.py:1630: calling BaseResourceVariable.__init__ (from tensorflow.python.ops.resource_variable_ops) with constraint is deprecated and will be removed in a future version.\n",
      "Instructions for updating:\n",
      "If using Keras pass *_constraint arguments to layers.\n",
      "WARNING:tensorflow:From /home/shoaib/anaconda3/lib/python3.7/site-packages/keras/backend/tensorflow_backend.py:4070: The name tf.nn.max_pool is deprecated. Please use tf.nn.max_pool2d instead.\n",
      "\n",
      "Model: \"sequential_1\"\n",
      "_________________________________________________________________\n",
      "Layer (type)                 Output Shape              Param #   \n",
      "=================================================================\n",
      "conv2d_1 (Conv2D)            (None, 24, 24, 8)         208       \n",
      "_________________________________________________________________\n",
      "max_pooling2d_1 (MaxPooling2 (None, 12, 12, 8)         0         \n",
      "_________________________________________________________________\n",
      "conv2d_2 (Conv2D)            (None, 8, 8, 16)          3216      \n",
      "_________________________________________________________________\n",
      "flatten_1 (Flatten)          (None, 1024)              0         \n",
      "_________________________________________________________________\n",
      "dense_1 (Dense)              (None, 128)               131200    \n",
      "_________________________________________________________________\n",
      "dense_2 (Dense)              (None, 10)                1290      \n",
      "=================================================================\n",
      "Total params: 135,914\n",
      "Trainable params: 135,914\n",
      "Non-trainable params: 0\n",
      "_________________________________________________________________\n",
      "WARNING:tensorflow:From /home/shoaib/anaconda3/lib/python3.7/site-packages/keras/backend/tensorflow_backend.py:422: The name tf.global_variables is deprecated. Please use tf.compat.v1.global_variables instead.\n",
      "\n",
      "Train on 60000 samples, validate on 10000 samples\n",
      "Epoch 1/12\n",
      "60000/60000 [==============================] - 20s 341us/step - loss: 0.1461 - accuracy: 0.9549 - val_loss: 0.0490 - val_accuracy: 0.9856\n",
      "Epoch 2/12\n",
      "60000/60000 [==============================] - 21s 343us/step - loss: 0.0510 - accuracy: 0.9840 - val_loss: 0.0379 - val_accuracy: 0.9872\n",
      "Epoch 3/12\n",
      "60000/60000 [==============================] - 21s 343us/step - loss: 0.0347 - accuracy: 0.9896 - val_loss: 0.0375 - val_accuracy: 0.9890\n",
      "Epoch 4/12\n",
      "60000/60000 [==============================] - 21s 349us/step - loss: 0.0274 - accuracy: 0.9911 - val_loss: 0.0333 - val_accuracy: 0.9903\n",
      "Epoch 5/12\n",
      "60000/60000 [==============================] - 20s 341us/step - loss: 0.0208 - accuracy: 0.9934 - val_loss: 0.0364 - val_accuracy: 0.9892\n",
      "Epoch 6/12\n",
      "60000/60000 [==============================] - 21s 345us/step - loss: 0.0161 - accuracy: 0.9949 - val_loss: 0.0311 - val_accuracy: 0.9909\n",
      "Epoch 7/12\n",
      "60000/60000 [==============================] - 20s 341us/step - loss: 0.0140 - accuracy: 0.9955 - val_loss: 0.0358 - val_accuracy: 0.9897\n",
      "Epoch 8/12\n",
      "60000/60000 [==============================] - 21s 342us/step - loss: 0.0115 - accuracy: 0.9962 - val_loss: 0.0338 - val_accuracy: 0.9905\n",
      "Epoch 9/12\n",
      "60000/60000 [==============================] - 21s 342us/step - loss: 0.0095 - accuracy: 0.9968 - val_loss: 0.0567 - val_accuracy: 0.9871\n",
      "Epoch 10/12\n",
      "60000/60000 [==============================] - 20s 340us/step - loss: 0.0079 - accuracy: 0.9973 - val_loss: 0.0412 - val_accuracy: 0.9910\n",
      "Epoch 11/12\n",
      "60000/60000 [==============================] - 18s 294us/step - loss: 0.0085 - accuracy: 0.9974 - val_loss: 0.0489 - val_accuracy: 0.9890\n",
      "Epoch 12/12\n",
      "60000/60000 [==============================] - 16s 266us/step - loss: 0.0065 - accuracy: 0.9977 - val_loss: 0.0452 - val_accuracy: 0.9903\n",
      "Test loss: 0.045194161275187904\n",
      "Test accuracy: 0.9902999997138977\n"
     ]
    }
   ],
   "source": [
    "# Will run only if file is the entry point\n",
    "# Allows file to be imported without executing below code\n",
    "if __name__ == '__main__':\n",
    "\t(train_xs, train_ys), (test_xs, test_ys) = load_data()\n",
    "\tmodel = create_model()\n",
    "\tmodel.summary()\n",
    "\ttrain()\n",
    "\n",
    "\t# Save model as 'model.h5' in current directory\n",
    "\tmodel.save('model.h5')"
   ]
  }
 ],
 "metadata": {
  "colab": {
   "name": "train.ipynb",
   "provenance": []
  },
  "kernelspec": {
   "display_name": "Python 3",
   "language": "python",
   "name": "python3"
  },
  "language_info": {
   "codemirror_mode": {
    "name": "ipython",
    "version": 3
   },
   "file_extension": ".py",
   "mimetype": "text/x-python",
   "name": "python",
   "nbconvert_exporter": "python",
   "pygments_lexer": "ipython3",
   "version": "3.7.3"
  }
 },
 "nbformat": 4,
 "nbformat_minor": 1
}
